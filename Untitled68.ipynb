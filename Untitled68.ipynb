{
  "nbformat": 4,
  "nbformat_minor": 0,
  "metadata": {
    "colab": {
      "private_outputs": true,
      "provenance": [],
      "authorship_tag": "ABX9TyO2A8KWbcbnP2Mrn4NdPgPj",
      "include_colab_link": true
    },
    "kernelspec": {
      "name": "python3",
      "display_name": "Python 3"
    },
    "language_info": {
      "name": "python"
    }
  },
  "cells": [
    {
      "cell_type": "markdown",
      "metadata": {
        "id": "view-in-github",
        "colab_type": "text"
      },
      "source": [
        "<a href=\"https://colab.research.google.com/github/mablus/virtual-assistance/blob/main/Untitled68.ipynb\" target=\"_parent\"><img src=\"https://colab.research.google.com/assets/colab-badge.svg\" alt=\"Open In Colab\"/></a>"
      ]
    },
    {
      "cell_type": "code",
      "source": [
        "!pip install PyAudio"
      ],
      "metadata": {
        "id": "-axWL5o8rJAq"
      },
      "execution_count": null,
      "outputs": []
    },
    {
      "cell_type": "code",
      "execution_count": null,
      "metadata": {
        "id": "tKBG8wlTqojp"
      },
      "outputs": [],
      "source": [
        "import speech_recognition as sr\n",
        "from gtts import gTTS\n",
        "import os\n",
        "import datetime\n",
        "import playsound\n",
        "import pyjokes\n",
        "import wikipedia\n",
        "import pyaudio\n",
        "import webbrowser"
      ]
    },
    {
      "cell_type": "code",
      "source": [],
      "metadata": {
        "id": "02CVNxUJsar3"
      },
      "execution_count": null,
      "outputs": []
    },
    {
      "cell_type": "code",
      "source": [
        "def get_audio():\n",
        "    r = sr.Recognizer()\n",
        "    with sr.Microphone() as source:\n",
        "        r.pause_threshold = 1\n",
        "        # wait for a second to let the recognizer adjust the\n",
        "        # energy threshold based on the surrounding noise level\n",
        "        r.adjust_for_ambient_noise(source, duration=1)\n",
        "        audio = r.listen(source)\n",
        "        said = \"\"\n",
        "        try:\n",
        "            said = r.recognize_google(audio)\n",
        "            print(said)\n",
        "        except sr.UnknownValueError:\n",
        "            speak(\"Sorry, I did not get that.\")\n",
        "        except sr.RequestError:\n",
        "            speak(\"Sorry, the service is not available\")\n",
        "    return said.lower()\n",
        "\n",
        "  "
      ],
      "metadata": {
        "id": "OjWj2jQUsatZ"
      },
      "execution_count": null,
      "outputs": []
    },
    {
      "cell_type": "code",
      "source": [
        " def speak(text):\n",
        "    gtts = gTTS(text=text, lang='en')\n",
        "    filename = \"voice.mp3\"\n",
        "    try:\n",
        "        os.remove(filename)\n",
        "    except OSError:\n",
        "        pass\n",
        "    tts.save(filename)\n",
        "    playsound.playsound(filename)"
      ],
      "metadata": {
        "id": "D8fBYVVmuAAN"
      },
      "execution_count": null,
      "outputs": []
    },
    {
      "cell_type": "code",
      "source": [
        "def respond(text):\n",
        "    print(\"Text from get audio \" + text)\n",
        "    if 'youtube' in text:\n",
        "        speak(\"What do you want to search for?\")\n",
        "        keyword = get_audio()\n",
        "        if keyword!= '':\n",
        "            url = f\"https://www.youtube.com/results?search_query={keyword}\"\n",
        "            webbrowser.get().open(url)\n",
        "            speak(f\"Here is what I have found for {keyword} on youtube\")\n",
        "    elif 'search' in text:\n",
        "        speak(\"What do you want to search for?\")\n",
        "        query = get_audio()\n",
        "        if query !='':\n",
        "            result = wikipedia.summary(query, sentences=3)\n",
        "            speak(\"According to wikipedia\")\n",
        "            print(result)\n",
        "            speak(result)\n",
        "    elif 'joke' in text:\n",
        "        speak(pyjokes.get_joke())\n",
        "    elif 'empty recycle bin' in text:\n",
        "        winshell.recycle_bin().empty(confirm=False, show_progress=False, sound=True)\n",
        "        speak(\"Recycle bin emptied\")\n",
        "    elif 'what time' in text:\n",
        "        strTime = datetime.today().strftime(\"%H:%M %p\")\n",
        "        print(strTime)\n",
        "        speak(strTime)\n",
        "    elif 'play music' in text or 'play song' in text:\n",
        "        speak(\"Now playing...\")\n",
        "        music_dir = \"C:\\\\Users\\\\UserName\\\\Downloads\\\\Music\\\\\" #add your music directory here..\n",
        "        songs = os.listdir(music_dir)\n",
        "        #counter = 0\n",
        "        print(songs)\n",
        "        playmusic(music_dir + \"\\\\\" + songs[0])\n",
        "    elif 'stop music' in text:\n",
        "        speak(\"Stopping playback.\")\n",
        "        stopmusic()\n",
        "    elif 'exit' in text:\n",
        "        speak(\"Goodbye, till next time\")\n",
        "        exit()"
      ],
      "metadata": {
        "id": "rt8ZArBxuCx8"
      },
      "execution_count": null,
      "outputs": []
    },
    {
      "cell_type": "code",
      "source": [],
      "metadata": {
        "id": "mUjeU6ttuhDL"
      },
      "execution_count": null,
      "outputs": []
    }
  ]
}