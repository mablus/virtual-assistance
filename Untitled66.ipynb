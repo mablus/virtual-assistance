{
  "nbformat": 4,
  "nbformat_minor": 0,
  "metadata": {
    "colab": {
      "private_outputs": true,
      "provenance": [],
      "authorship_tag": "ABX9TyMonVSYiszA1hQuYEAqyFAF",
      "include_colab_link": true
    },
    "kernelspec": {
      "name": "python3",
      "display_name": "Python 3"
    },
    "language_info": {
      "name": "python"
    }
  },
  "cells": [
    {
      "cell_type": "markdown",
      "metadata": {
        "id": "view-in-github",
        "colab_type": "text"
      },
      "source": [
        "<a href=\"https://colab.research.google.com/github/mablus/virtual-assistance/blob/main/Untitled66.ipynb\" target=\"_parent\"><img src=\"https://colab.research.google.com/assets/colab-badge.svg\" alt=\"Open In Colab\"/></a>"
      ]
    },
    {
      "cell_type": "code",
      "source": [
        "pip install gtts\n"
      ],
      "metadata": {
        "id": "8ro3quESawto"
      },
      "execution_count": null,
      "outputs": []
    },
    {
      "cell_type": "code",
      "execution_count": null,
      "metadata": {
        "id": "nnAO0LIJZ2iE"
      },
      "outputs": [],
      "source": [
        "\n",
        "from gtts import gTTS\n",
        "from IPython.display import Audio\n",
        "\n",
        "text_to_say = \"Hello world!It is a pleasure to talk with you.\"\n",
        "\n",
        "language = \"en\"\n",
        "\n",
        "gtts_object = gTTS(text = text_to_say, \n",
        "                  lang = language,\n",
        "                  slow = False)\n",
        "\n",
        "gtts_object.save(\"/content/gtts.wav\")\n",
        "\n",
        "\n",
        "\n",
        "Audio(\"/content/gtts.wav\")\n",
        "\n",
        "french_text = \"Le Petit Prince est une œuvre de langue française, la plus connue d'Antoine de Saint-Exupéry. Publié en 1943 à New York  à sa traduction anglaise, c'est une œuvre poétique et philosophique sous l'apparence d'un conte pour enfants.\"\n",
        "\n",
        "french_language = \"fr\"\n",
        "\n",
        "french_gtts_object = gTTS(text = french_text,\n",
        "                          lang = french_language,\n",
        "                          slow = True)\n",
        "\n",
        "french_gtts_object.save(\"/content/french.wav\")\n",
        "\n",
        "Audio(\"/content/french.wav\")\n",
        "##Audio(\"/content/gtts.wav\")"
      ]
    }
  ]
}